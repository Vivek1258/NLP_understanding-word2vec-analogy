{
 "cells": [
  {
   "cell_type": "markdown",
   "metadata": {},
   "source": [
    "Understanding word2vec analogy :\n",
    "\n",
    "Word2vec is a two-layer neural net that processes text. Its input is a text corpus and its output is a set of vectors: feature vectors for words in that corpus. While Word2vec is not a deep neural network, it turns text into a numerical form that deep nets can understand.\n",
    "\n",
    "Here I have created the corpus By using the King-Queen Quotes ,\n",
    "So the output may not be that appropiate , but it can help to understand the word2vec analogy "
   ]
  },
  {
   "cell_type": "code",
   "execution_count": 1,
   "metadata": {},
   "outputs": [],
   "source": [
    "corpus = ['king is a brave man' , 'Queen is a beautiful women' , 'Treat every woman like a Queen or you will lose her to a king' , 'Every woman needs a man who will stay faithful & who will treat her like a queen. Not a boy who will test her trust & play with her feelings.' ,'Every king springs from a race of slaves, and every slave had kings among his ancestors', 'I’d like to be queen of people’s hearts', 'A real man treats his lady like a queen, and a real lady treats her man like a king.' ,'A real man gives his lady the attention she deserves, gives her all of his love, calls her beautiful, and treats her like a queen.']\n"
   ]
  },
  {
   "cell_type": "code",
   "execution_count": 2,
   "metadata": {},
   "outputs": [],
   "source": [
    "\n",
    "def remove_stop_words(corpus):\n",
    "    stop_words = ['is', 'a', 'will', 'be' , '(' , ')' , ';' , ',' ,'to' ,'the','their']\n",
    "    results = []\n",
    "    for text in corpus:\n",
    "        tmp = text.split(' ') \n",
    "        for stop_word in stop_words:\n",
    "            if stop_word in tmp:\n",
    "                tmp.remove(stop_word)\n",
    "        results.append(\" \".join(tmp))\n",
    "    \n",
    "    return results"
   ]
  },
  {
   "cell_type": "code",
   "execution_count": 3,
   "metadata": {},
   "outputs": [],
   "source": [
    "corpus = remove_stop_words(corpus)\n"
   ]
  },
  {
   "cell_type": "code",
   "execution_count": 4,
   "metadata": {},
   "outputs": [],
   "source": [
    "words = []\n",
    "for text in corpus:\n",
    "    for word in text.split(' '):\n",
    "        words.append(word)\n",
    "\n",
    "words = set(words)"
   ]
  },
  {
   "cell_type": "code",
   "execution_count": 5,
   "metadata": {},
   "outputs": [
    {
     "data": {
      "text/plain": [
       "{'&',\n",
       " 'A',\n",
       " 'Every',\n",
       " 'I’d',\n",
       " 'Not',\n",
       " 'Queen',\n",
       " 'Treat',\n",
       " 'a',\n",
       " 'all',\n",
       " 'among',\n",
       " 'ancestors',\n",
       " 'and',\n",
       " 'attention',\n",
       " 'beautiful',\n",
       " 'beautiful,',\n",
       " 'boy',\n",
       " 'brave',\n",
       " 'calls',\n",
       " 'deserves,',\n",
       " 'every',\n",
       " 'faithful',\n",
       " 'feelings.',\n",
       " 'from',\n",
       " 'gives',\n",
       " 'had',\n",
       " 'hearts',\n",
       " 'her',\n",
       " 'his',\n",
       " 'king',\n",
       " 'king.',\n",
       " 'kings',\n",
       " 'lady',\n",
       " 'like',\n",
       " 'lose',\n",
       " 'love,',\n",
       " 'man',\n",
       " 'needs',\n",
       " 'of',\n",
       " 'or',\n",
       " 'people’s',\n",
       " 'play',\n",
       " 'queen',\n",
       " 'queen,',\n",
       " 'queen.',\n",
       " 'race',\n",
       " 'real',\n",
       " 'she',\n",
       " 'slave',\n",
       " 'slaves,',\n",
       " 'springs',\n",
       " 'stay',\n",
       " 'test',\n",
       " 'treat',\n",
       " 'treats',\n",
       " 'trust',\n",
       " 'who',\n",
       " 'will',\n",
       " 'with',\n",
       " 'woman',\n",
       " 'women',\n",
       " 'you'}"
      ]
     },
     "execution_count": 5,
     "metadata": {},
     "output_type": "execute_result"
    }
   ],
   "source": [
    "\n",
    "words"
   ]
  },
  {
   "cell_type": "code",
   "execution_count": 6,
   "metadata": {},
   "outputs": [
    {
     "name": "stdout",
     "output_type": "stream",
     "text": [
      "<class 'dict'>\n",
      "[['king', 'brave', 'man'], ['Queen', 'beautiful', 'women'], ['Treat', 'every', 'woman', 'like', 'Queen', 'or', 'you', 'lose', 'her', 'a', 'king'], ['Every', 'woman', 'needs', 'man', 'who', 'stay', 'faithful', '&', 'who', 'will', 'treat', 'her', 'like', 'a', 'queen.', 'Not', 'a', 'boy', 'who', 'will', 'test', 'her', 'trust', '&', 'play', 'with', 'her', 'feelings.'], ['Every', 'king', 'springs', 'from', 'race', 'of', 'slaves,', 'and', 'every', 'slave', 'had', 'kings', 'among', 'his', 'ancestors'], ['I’d', 'like', 'queen', 'of', 'people’s', 'hearts'], ['A', 'real', 'man', 'treats', 'his', 'lady', 'like', 'queen,', 'and', 'a', 'real', 'lady', 'treats', 'her', 'man', 'like', 'a', 'king.'], ['A', 'real', 'man', 'gives', 'his', 'lady', 'attention', 'she', 'deserves,', 'gives', 'her', 'all', 'of', 'his', 'love,', 'calls', 'her', 'beautiful,', 'and', 'treats', 'her', 'like', 'queen.']]\n",
      "<class 'list'>\n"
     ]
    }
   ],
   "source": [
    "\n",
    "word2int = {} # dictionary \n",
    "\n",
    "for i,word in enumerate(words):\n",
    "    word2int[word] = i\n",
    "\n",
    "sentences = []  #list of list of names \n",
    "for sentence in corpus:\n",
    "    sentences.append(sentence.split())\n",
    "    \n",
    "WINDOW_SIZE = 2\n",
    "\n",
    "data = []\n",
    "for sentence in sentences:\n",
    "    for idx, word in enumerate(sentence):\n",
    "        for neighbor in sentence[max(idx - WINDOW_SIZE, 0) : min(idx + WINDOW_SIZE, len(sentence)) + 1] : \n",
    "            if neighbor != word:\n",
    "                data.append([word, neighbor])\n",
    "                \n",
    "print(type(word2int))\n",
    "print(sentences)\n",
    "print(type(data))\n",
    "data\n"
   ]
  },
  {
   "cell_type": "code",
   "execution_count": 7,
   "metadata": {},
   "outputs": [
    {
     "name": "stdout",
     "output_type": "stream",
     "text": [
      "king brave man\n",
      "Queen beautiful women\n",
      "Treat every woman like Queen or you lose her a king\n",
      "Every woman needs man who stay faithful & who will treat her like a queen. Not a boy who will test her trust & play with her feelings.\n",
      "Every king springs from race of slaves, and every slave had kings among his ancestors\n",
      "I’d like queen of people’s hearts\n",
      "A real man treats his lady like queen, and a real lady treats her man like a king.\n",
      "A real man gives his lady attention she deserves, gives her all of his love, calls her beautiful, and treats her like queen.\n"
     ]
    }
   ],
   "source": [
    "import pandas as pd\n",
    "for text in corpus:\n",
    "    print(text)\n",
    "\n",
    "df = pd.DataFrame(data, columns = ['input', 'label'])"
   ]
  },
  {
   "cell_type": "code",
   "execution_count": 8,
   "metadata": {},
   "outputs": [
    {
     "data": {
      "text/html": [
       "<div>\n",
       "<style scoped>\n",
       "    .dataframe tbody tr th:only-of-type {\n",
       "        vertical-align: middle;\n",
       "    }\n",
       "\n",
       "    .dataframe tbody tr th {\n",
       "        vertical-align: top;\n",
       "    }\n",
       "\n",
       "    .dataframe thead th {\n",
       "        text-align: right;\n",
       "    }\n",
       "</style>\n",
       "<table border=\"1\" class=\"dataframe\">\n",
       "  <thead>\n",
       "    <tr style=\"text-align: right;\">\n",
       "      <th></th>\n",
       "      <th>input</th>\n",
       "      <th>label</th>\n",
       "    </tr>\n",
       "  </thead>\n",
       "  <tbody>\n",
       "    <tr>\n",
       "      <td>0</td>\n",
       "      <td>king</td>\n",
       "      <td>brave</td>\n",
       "    </tr>\n",
       "    <tr>\n",
       "      <td>1</td>\n",
       "      <td>king</td>\n",
       "      <td>man</td>\n",
       "    </tr>\n",
       "    <tr>\n",
       "      <td>2</td>\n",
       "      <td>brave</td>\n",
       "      <td>king</td>\n",
       "    </tr>\n",
       "    <tr>\n",
       "      <td>3</td>\n",
       "      <td>brave</td>\n",
       "      <td>man</td>\n",
       "    </tr>\n",
       "    <tr>\n",
       "      <td>4</td>\n",
       "      <td>man</td>\n",
       "      <td>king</td>\n",
       "    </tr>\n",
       "    <tr>\n",
       "      <td>5</td>\n",
       "      <td>man</td>\n",
       "      <td>brave</td>\n",
       "    </tr>\n",
       "    <tr>\n",
       "      <td>6</td>\n",
       "      <td>Queen</td>\n",
       "      <td>beautiful</td>\n",
       "    </tr>\n",
       "    <tr>\n",
       "      <td>7</td>\n",
       "      <td>Queen</td>\n",
       "      <td>women</td>\n",
       "    </tr>\n",
       "    <tr>\n",
       "      <td>8</td>\n",
       "      <td>beautiful</td>\n",
       "      <td>Queen</td>\n",
       "    </tr>\n",
       "    <tr>\n",
       "      <td>9</td>\n",
       "      <td>beautiful</td>\n",
       "      <td>women</td>\n",
       "    </tr>\n",
       "  </tbody>\n",
       "</table>\n",
       "</div>"
      ],
      "text/plain": [
       "       input      label\n",
       "0       king      brave\n",
       "1       king        man\n",
       "2      brave       king\n",
       "3      brave        man\n",
       "4        man       king\n",
       "5        man      brave\n",
       "6      Queen  beautiful\n",
       "7      Queen      women\n",
       "8  beautiful      Queen\n",
       "9  beautiful      women"
      ]
     },
     "execution_count": 8,
     "metadata": {},
     "output_type": "execute_result"
    }
   ],
   "source": [
    "df.head(10)"
   ]
  },
  {
   "cell_type": "code",
   "execution_count": 9,
   "metadata": {},
   "outputs": [
    {
     "data": {
      "text/plain": [
       "(380, 2)"
      ]
     },
     "execution_count": 9,
     "metadata": {},
     "output_type": "execute_result"
    }
   ],
   "source": [
    "df.shape\n"
   ]
  },
  {
   "cell_type": "code",
   "execution_count": 10,
   "metadata": {},
   "outputs": [],
   "source": [
    " # Encoding and embeddinbg \n",
    "import tensorflow as tf\n",
    "import numpy as np\n",
    "\n",
    "ONE_HOT_DIM = len(words) # dimention of one hot representation \n",
    "\n",
    "# function to convert numbers to one hot vectors\n",
    "def to_one_hot_encoding(data_point_index):\n",
    "    one_hot_encoding = np.zeros(ONE_HOT_DIM)\n",
    "    one_hot_encoding[data_point_index] = 1\n",
    "    return one_hot_encoding\n",
    "\n",
    "X = [] # input word\n",
    "Y = [] # target word\n",
    "\n",
    "for x, y in zip(df['input'], df['label']):\n",
    "    X.append(to_one_hot_encoding(word2int[ x ]))\n",
    "    Y.append(to_one_hot_encoding(word2int[ y ]))\n",
    "\n",
    "# convert them to numpy arrays\n",
    "X_train = np.asarray(X) # to conver any input to the array \n",
    "Y_train = np.asarray(Y)\n",
    "\n",
    "# making placeholders for X_train and Y_train\n",
    "x = tf.placeholder(tf.float32, shape=(None, ONE_HOT_DIM))\n",
    "y_label = tf.placeholder(tf.float32, shape=(None, ONE_HOT_DIM))\n",
    "\n",
    "# word embedding will be 2 dimension for 2d visualization\n",
    "EMBEDDING_DIM = 2 \n",
    "\n",
    "# hidden layer: which represents word vector eventually\n",
    "W1 = tf.Variable(tf.random_normal([ONE_HOT_DIM, EMBEDDING_DIM]))\n",
    "b1 = tf.Variable(tf.random_normal([1])) #bias\n",
    "hidden_layer = tf.add(tf.matmul(x,W1), b1)\n",
    "\n",
    "# output layer\n",
    "W2 = tf.Variable(tf.random_normal([EMBEDDING_DIM, ONE_HOT_DIM]))\n",
    "b2 = tf.Variable(tf.random_normal([1]))\n",
    "prediction = tf.nn.softmax(tf.add( tf.matmul(hidden_layer, W2), b2))\n",
    "\n",
    "# loss function: cross entropy\n",
    "loss = tf.reduce_mean(-tf.reduce_sum(y_label * tf.log(prediction), axis=[1]))\n",
    "\n",
    "# training operation\n",
    "train_op = tf.train.GradientDescentOptimizer(0.05).minimize(loss)"
   ]
  },
  {
   "cell_type": "code",
   "execution_count": 11,
   "metadata": {},
   "outputs": [
    {
     "name": "stdout",
     "output_type": "stream",
     "text": [
      "iteration 0 loss is :  5.007926\n",
      "iteration 3000 loss is :  3.6384785\n",
      "iteration 6000 loss is :  3.4828901\n",
      "iteration 9000 loss is :  3.3994188\n",
      "iteration 12000 loss is :  3.3342853\n",
      "iteration 15000 loss is :  3.281383\n",
      "iteration 18000 loss is :  3.2427838\n"
     ]
    }
   ],
   "source": [
    "\n",
    "sess = tf.Session()\n",
    "init = tf.global_variables_initializer()\n",
    "sess.run(init) \n",
    "\n",
    "iteration = 20000\n",
    "for i in range(iteration):\n",
    "    # input is X_train which is one hot encoded word\n",
    "    # label is Y_train which is one hot encoded neighbor word\n",
    "    sess.run(train_op, feed_dict={x: X_train, y_label: Y_train})\n",
    "    if i % 3000 == 0:\n",
    "        print('iteration '+str(i)+' loss is : ', sess.run(loss, feed_dict={x: X_train, y_label: Y_train}))"
   ]
  },
  {
   "cell_type": "code",
   "execution_count": 12,
   "metadata": {},
   "outputs": [
    {
     "name": "stdout",
     "output_type": "stream",
     "text": [
      "[[ 2.3661253  -0.37411475]\n",
      " [ 0.15942025  1.119098  ]\n",
      " [ 2.8278217   1.3382523 ]\n",
      " [ 2.1149063   0.18029505]\n",
      " [ 0.3961092   0.17340869]\n",
      " [ 1.8493297  -0.21930373]\n",
      " [ 3.5091238   1.1639694 ]\n",
      " [ 0.26118064  3.1679125 ]\n",
      " [ 0.820037   -1.5500844 ]\n",
      " [ 0.3055992   0.7348806 ]\n",
      " [ 0.19601327  1.2223115 ]\n",
      " [-0.06887734 -0.5306282 ]\n",
      " [ 0.8279412  -0.44413126]\n",
      " [-0.76022506  0.91709375]\n",
      " [ 2.893928    1.0843501 ]\n",
      " [ 0.816279   -0.90353847]\n",
      " [ 1.8516798   1.0024158 ]\n",
      " [ 1.6635299   2.6200547 ]\n",
      " [ 0.22794503  0.08133262]\n",
      " [-0.3274951   2.6197839 ]\n",
      " [ 2.6875978   0.49658352]\n",
      " [-0.76452637  3.9213467 ]\n",
      " [ 0.9573162  -0.80141544]\n",
      " [-0.63961065  0.2845534 ]\n",
      " [ 2.0316725   1.8029127 ]\n",
      " [-0.10202342  3.7060964 ]\n",
      " [ 0.00833708  3.817552  ]\n",
      " [ 1.5181817   0.12122947]\n",
      " [ 2.3874645  -2.1305597 ]\n",
      " [ 2.0591397  -1.1441004 ]\n",
      " [ 1.4938086   0.16672742]\n",
      " [ 0.6219722  -0.63541925]\n",
      " [ 0.80493164  0.605249  ]\n",
      " [-0.4267441   2.513677  ]\n",
      " [ 0.15641922  0.20455295]\n",
      " [ 0.39172405  3.6822538 ]\n",
      " [-0.26465845  0.09726155]\n",
      " [ 0.48401782 -1.5499105 ]\n",
      " [ 0.80631864  0.75549203]\n",
      " [ 1.3247017  -0.09333038]\n",
      " [ 2.307652    0.85213387]\n",
      " [ 0.6550272   2.4355733 ]\n",
      " [ 1.6506159  -0.75762796]\n",
      " [ 1.3368307  -1.9749289 ]\n",
      " [ 0.622265    1.555238  ]\n",
      " [ 1.6671798   0.14285439]\n",
      " [ 0.35468644  1.238368  ]\n",
      " [-1.1974626  -0.6024883 ]\n",
      " [ 0.7588909   1.4045792 ]\n",
      " [-0.33192515  2.083387  ]\n",
      " [ 0.97578067 -0.23934615]\n",
      " [ 0.96785027 -1.1601219 ]\n",
      " [ 0.41984922 -1.1044586 ]\n",
      " [ 1.0277264  -0.7135377 ]\n",
      " [ 1.357852    1.1024287 ]\n",
      " [ 2.8171163   0.008331  ]\n",
      " [ 0.46771267  3.507965  ]\n",
      " [-0.60997367  2.164006  ]\n",
      " [ 2.2187004   0.29892153]\n",
      " [-0.46859634  2.9429238 ]\n",
      " [ 1.4991193   0.70030415]]\n"
     ]
    }
   ],
   "source": [
    "# Now the hidden layer (W1 + b1) is actually the word look up table\n",
    "vectors = sess.run(W1 + b1)\n",
    "print(vectors)"
   ]
  },
  {
   "cell_type": "code",
   "execution_count": 13,
   "metadata": {},
   "outputs": [
    {
     "data": {
      "text/html": [
       "<div>\n",
       "<style scoped>\n",
       "    .dataframe tbody tr th:only-of-type {\n",
       "        vertical-align: middle;\n",
       "    }\n",
       "\n",
       "    .dataframe tbody tr th {\n",
       "        vertical-align: top;\n",
       "    }\n",
       "\n",
       "    .dataframe thead th {\n",
       "        text-align: right;\n",
       "    }\n",
       "</style>\n",
       "<table border=\"1\" class=\"dataframe\">\n",
       "  <thead>\n",
       "    <tr style=\"text-align: right;\">\n",
       "      <th></th>\n",
       "      <th>word</th>\n",
       "      <th>x1</th>\n",
       "      <th>x2</th>\n",
       "    </tr>\n",
       "  </thead>\n",
       "  <tbody>\n",
       "    <tr>\n",
       "      <td>0</td>\n",
       "      <td>attention</td>\n",
       "      <td>2.366125</td>\n",
       "      <td>-0.374115</td>\n",
       "    </tr>\n",
       "    <tr>\n",
       "      <td>1</td>\n",
       "      <td>or</td>\n",
       "      <td>0.159420</td>\n",
       "      <td>1.119098</td>\n",
       "    </tr>\n",
       "    <tr>\n",
       "      <td>2</td>\n",
       "      <td>A</td>\n",
       "      <td>2.827822</td>\n",
       "      <td>1.338252</td>\n",
       "    </tr>\n",
       "    <tr>\n",
       "      <td>3</td>\n",
       "      <td>love,</td>\n",
       "      <td>2.114906</td>\n",
       "      <td>0.180295</td>\n",
       "    </tr>\n",
       "    <tr>\n",
       "      <td>4</td>\n",
       "      <td>king</td>\n",
       "      <td>0.396109</td>\n",
       "      <td>0.173409</td>\n",
       "    </tr>\n",
       "    <tr>\n",
       "      <td>...</td>\n",
       "      <td>...</td>\n",
       "      <td>...</td>\n",
       "      <td>...</td>\n",
       "    </tr>\n",
       "    <tr>\n",
       "      <td>56</td>\n",
       "      <td>treat</td>\n",
       "      <td>0.467713</td>\n",
       "      <td>3.507965</td>\n",
       "    </tr>\n",
       "    <tr>\n",
       "      <td>57</td>\n",
       "      <td>trust</td>\n",
       "      <td>-0.609974</td>\n",
       "      <td>2.164006</td>\n",
       "    </tr>\n",
       "    <tr>\n",
       "      <td>58</td>\n",
       "      <td>gives</td>\n",
       "      <td>2.218700</td>\n",
       "      <td>0.298922</td>\n",
       "    </tr>\n",
       "    <tr>\n",
       "      <td>59</td>\n",
       "      <td>&amp;</td>\n",
       "      <td>-0.468596</td>\n",
       "      <td>2.942924</td>\n",
       "    </tr>\n",
       "    <tr>\n",
       "      <td>60</td>\n",
       "      <td>calls</td>\n",
       "      <td>1.499119</td>\n",
       "      <td>0.700304</td>\n",
       "    </tr>\n",
       "  </tbody>\n",
       "</table>\n",
       "<p>61 rows × 3 columns</p>\n",
       "</div>"
      ],
      "text/plain": [
       "         word        x1        x2\n",
       "0   attention  2.366125 -0.374115\n",
       "1          or  0.159420  1.119098\n",
       "2           A  2.827822  1.338252\n",
       "3       love,  2.114906  0.180295\n",
       "4        king  0.396109  0.173409\n",
       "..        ...       ...       ...\n",
       "56      treat  0.467713  3.507965\n",
       "57      trust -0.609974  2.164006\n",
       "58      gives  2.218700  0.298922\n",
       "59          & -0.468596  2.942924\n",
       "60      calls  1.499119  0.700304\n",
       "\n",
       "[61 rows x 3 columns]"
      ]
     },
     "execution_count": 13,
     "metadata": {},
     "output_type": "execute_result"
    }
   ],
   "source": [
    "\n",
    "w2v_df = pd.DataFrame(vectors, columns = ['x1', 'x2'])\n",
    "w2v_df['word'] = words\n",
    "w2v_df = w2v_df[['word', 'x1', 'x2']]\n",
    "w2v_df"
   ]
  },
  {
   "cell_type": "code",
   "execution_count": 15,
   "metadata": {},
   "outputs": [
    {
     "data": {
      "image/png": "[encoded data removed]",
      "text/plain": [
       "<Figure size 432x288 with 1 Axes>"
      ]
     },
     "metadata": {
      "needs_background": "light"
     },
     "output_type": "display_data"
    }
   ],
   "source": [
    "\n",
    "import matplotlib.pyplot as plt\n",
    "\n",
    "fig, ax = plt.subplots()\n",
    "\n",
    "for word, x1, x2 in zip(w2v_df['word'], w2v_df['x1'], w2v_df['x2']):\n",
    "    ax.annotate(word, (x1,x2 ))\n",
    "    \n",
    "PADDING = 0.01\n",
    "x_axis_min = np.amin(vectors, axis=0)[0] - PADDING\n",
    "y_axis_min = np.amin(vectors, axis=0)[1] - PADDING\n",
    "x_axis_max = np.amax(vectors, axis=0)[0] + PADDING\n",
    "y_axis_max = np.amax(vectors, axis=0)[1] + PADDING\n",
    " \n",
    "plt.xlim(x_axis_min,x_axis_max)\n",
    "plt.ylim(y_axis_min,y_axis_max)\n",
    "plt.rcParams[\"figure.figsize\"] = (20,20)\n",
    "\n",
    "plt.show()"
   ]
  },
  {
   "cell_type": "code",
   "execution_count": null,
   "metadata": {},
   "outputs": [],
   "source": []
  },
  {
   "cell_type": "code",
   "execution_count": null,
   "metadata": {},
   "outputs": [],
   "source": []
  },
  {
   "cell_type": "code",
   "execution_count": null,
   "metadata": {},
   "outputs": [],
   "source": []
  }
 ],
 "metadata": {
  "kernelspec": {
   "display_name": "Python 3",
   "language": "python",
   "name": "python3"
  },
  "language_info": {
   "codemirror_mode": {
    "name": "ipython",
    "version": 3
   },
   "file_extension": ".py",
   "mimetype": "text/x-python",
   "name": "python",
   "nbconvert_exporter": "python",
   "pygments_lexer": "ipython3",
   "version": "3.7.5"
  }
 },
 "nbformat": 4,
 "nbformat_minor": 2
}
